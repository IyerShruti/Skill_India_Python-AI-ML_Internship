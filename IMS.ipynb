{
  "nbformat": 4,
  "nbformat_minor": 0,
  "metadata": {
    "colab": {
      "name": "IMS.ipynb",
      "provenance": []
    },
    "kernelspec": {
      "name": "python3",
      "display_name": "Python 3"
    },
    "language_info": {
      "name": "python"
    }
  },
  "cells": [
    {
      "cell_type": "code",
      "metadata": {
        "id": "QTWxE_18JHIc"
      },
      "source": [
        "records = {\"1001\": {'name': 'Dairymilk', 'quantity': 34, 'price': 150},\n",
        "           \"1002\": {'name': 'Milky bar', 'quantity': 400, 'price': 15}, \n",
        "           \"1003\": {'name': 'Ferroro Rocher', 'quantity': 60, 'price': 600} ,\n",
        "           \"1004\": {'name': 'Lollipop', 'quantity': 80, 'price': 5},\n",
        "           \"1005\": {'name': 'Twix', 'quantity': 50, 'price': 95},\n",
        "           \"1006\": {'name': 'Mars', 'quantity': 40, 'price': 150},\n",
        "           \"1007\": {'name': 'Snickers', 'quantity': 70, 'price': 30},\n",
        "           \"1008\": {'name': 'Nutella', 'quantity': 50, 'price': 100},\n",
        "           \"1009\": {'name': 'Kinderjoy', 'quantity': 700, 'price': 40},\n",
        "           \"1010\": {'name': 'Dark chocolate', 'quantity': 85, 'price': 98},\n",
        "           \"1011\": {'name': 'Kit Kat', 'quantity': 300, 'price': 32},\n",
        "           \"1012\": {'name': '5 star', 'quantity': 400, 'price': 23},\n",
        "           \"1013\": {'name': 'Gems', 'quantity': 124, 'price': 15},\n",
        "           \"1014\": {'name': 'Munch', 'quantity': 180, 'price': 5},\n",
        "           \"1015\": {'name': 'Bournville', 'quantity': 300, 'price': 120}}"
      ],
      "execution_count": 1,
      "outputs": []
    },
    {
      "cell_type": "code",
      "metadata": {
        "colab": {
          "base_uri": "https://localhost:8080/"
        },
        "id": "lW44whfPJSLl",
        "outputId": "cc9560a3-2e6b-4095-c5bb-4e45ce2d191b"
      },
      "source": [
        "records"
      ],
      "execution_count": 2,
      "outputs": [
        {
          "output_type": "execute_result",
          "data": {
            "text/plain": [
              "{'1001': {'name': 'Dairymilk', 'price': 150, 'quantity': 34},\n",
              " '1002': {'name': 'Milky bar', 'price': 15, 'quantity': 400},\n",
              " '1003': {'name': 'Ferroro Rocher', 'price': 600, 'quantity': 60},\n",
              " '1004': {'name': 'Lollipop', 'price': 5, 'quantity': 80},\n",
              " '1005': {'name': 'Twix', 'price': 95, 'quantity': 50},\n",
              " '1006': {'name': 'Mars', 'price': 150, 'quantity': 40},\n",
              " '1007': {'name': 'Snickers', 'price': 30, 'quantity': 70},\n",
              " '1008': {'name': 'Nutella', 'price': 100, 'quantity': 50},\n",
              " '1009': {'name': 'Kinderjoy', 'price': 40, 'quantity': 700},\n",
              " '1010': {'name': 'Dark chocolate', 'price': 98, 'quantity': 85},\n",
              " '1011': {'name': 'Kit Kat', 'price': 32, 'quantity': 300},\n",
              " '1012': {'name': '5 star', 'price': 23, 'quantity': 400},\n",
              " '1013': {'name': 'Gems', 'price': 15, 'quantity': 124},\n",
              " '1014': {'name': 'Munch', 'price': 5, 'quantity': 180},\n",
              " '1015': {'name': 'Bournville', 'price': 120, 'quantity': 300}}"
            ]
          },
          "metadata": {},
          "execution_count": 2
        }
      ]
    },
    {
      "cell_type": "code",
      "metadata": {
        "id": "f5klSqjKJf2-"
      },
      "source": [
        "import json\n",
        "js =json.dumps(records)\n",
        "\n",
        "fd = open(\"records.json\",'w')\n",
        "fd.write(js)\n",
        "fd.close()"
      ],
      "execution_count": 3,
      "outputs": []
    },
    {
      "cell_type": "code",
      "metadata": {
        "id": "rdxiasffJjKg"
      },
      "source": [
        "fd = open('records.json', 'r')\n",
        "t = fd.read()\n",
        "fd.close()\n",
        "\n",
        "fd = open('records.json','w')\n",
        "fd.write(t)\n",
        "fd.close()\n",
        "\n",
        "sales = {}\n",
        "\n",
        "sales = json.dumps(sales)\n",
        "\n",
        "fd = open(\"sales.json\", 'w')\n",
        "fd.write(sales)\n",
        "fd.close()"
      ],
      "execution_count": 4,
      "outputs": []
    },
    {
      "cell_type": "code",
      "metadata": {
        "id": "yabUDsAAJlz3"
      },
      "source": [
        "import json\n",
        "import time"
      ],
      "execution_count": 5,
      "outputs": []
    },
    {
      "cell_type": "code",
      "metadata": {
        "id": "fz0DhO2IJpqw"
      },
      "source": [
        "fd = open('records.json','r')\n",
        "t = fd.read()\n",
        "fd.close()\n",
        "dct = json.loads(t)"
      ],
      "execution_count": 6,
      "outputs": []
    },
    {
      "cell_type": "code",
      "metadata": {
        "colab": {
          "base_uri": "https://localhost:8080/"
        },
        "id": "wKJFu6NnJtGa",
        "outputId": "d189551f-4e86-42fc-ec66-d5c190f6c84a"
      },
      "source": [
        "fd = open(\"sales.json\", 'r')\n",
        "sl = fd.read()\n",
        "fd.close()\n",
        "sales = json.loads(sl)\n",
        "dct.keys()"
      ],
      "execution_count": 7,
      "outputs": [
        {
          "output_type": "execute_result",
          "data": {
            "text/plain": [
              "dict_keys(['1001', '1002', '1003', '1004', '1005', '1006', '1007', '1008', '1009', '1010', '1011', '1012', '1013', '1014', '1015'])"
            ]
          },
          "metadata": {},
          "execution_count": 7
        }
      ]
    },
    {
      "cell_type": "code",
      "metadata": {
        "colab": {
          "base_uri": "https://localhost:8080/"
        },
        "id": "acKdzB1SJ2sM",
        "outputId": "7230e1c7-8332-4c95-f40d-69d1122972f6"
      },
      "source": [
        "print(\"**********************************************\")\n",
        "for i in dct.keys():\n",
        "  print(i, dct[i])\n",
        "\n",
        "print(\"******************************************\\n\")\n",
        "ui_prod  = str(input(\"Enter the product_Id: \"))\n",
        "ui_quant = int(input(\"Enter the quantity: \"))\n",
        "\n",
        "\n",
        "if (ui_prod in dct.keys()):                                                     \n",
        "    if (dct[ui_prod]['quantity'] >= ui_quant):                                        \n",
        "      print(\"Name:\",dct[ui_prod]['name'])\n",
        "      print(\"Price:\",dct[ui_prod]['price'])\n",
        "      print(\"Quantity:\", ui_quant)\n",
        "      print(\"------------------------------\")\n",
        "      print(\"Billing Amount:\", dct[ui_prod]['price'] * ui_quant)\n",
        "\n",
        "      dct[ui_prod]['quantity'] = dct[ui_prod]['quantity'] - ui_quant                        \n",
        "\n",
        "      sales[str(len(sales)+1)] = {'prod_id' : ui_prod,                          \n",
        "                                  \"time_pr\" :  time.ctime(), \n",
        "                                  'bill' : dct[ui_prod]['price'] * ui_quant, \n",
        "                                  'quantity' : ui_quant, \n",
        "                                  'price' : dct[ui_prod]['price'], \n",
        "                                  'pr_name' : dct[ui_prod]['name']}\n",
        "\n",
        "\n",
        "    else:                                                                       \n",
        "      print(\"Sorry, We are not having that much of quantity.\")\n",
        "      print(\"We're only having\",dct[ui_prod]['quantity'],\"quantity.\")\n",
        "      print(\"Would you like to purchase or not (Y/N)\")\n",
        "      ch = str(input(\"Y/N\"))\n",
        "      if (ch == \"Y\"):                                                          \n",
        "        print(\"Name:\",dct[ui_prod]['name'])\n",
        "        print(\"Price:\",dct[ui_prod]['price'])\n",
        "        print(\"Quantity:\", dct[ui_prod]['quantity'])\n",
        "        print(\"------------------------------\")\n",
        "        print(\"Billing Amount:\", dct[ui_prod]['price'] * dct[ui_prod]['quantity'])\n",
        "\n",
        "        dct[ui_prod]['quantity'] = 0                                                  \n",
        "        sales[str(len(sales)+1)] = {'prod_id' : ui_prod,                        \n",
        "                                    \"time_pr\" :  time.ctime(), \n",
        "                                    'bill' : dct[ui_prod]['price'] * dct[ui_prod]['quantity'], \n",
        "                                    'quantity' : dct[ui_prod]['quantity'], \n",
        "                                    'price' : dct[ui_prod]['price'], \n",
        "                                    'pr_name' : dct[ui_prod]['name']}\n",
        "\n",
        "      else:                                                                     \n",
        "        print(\"Thankyou!\")\n",
        "\n",
        "else:                                                                           \n",
        "  print(\"------------------------------\")\n",
        "  print(\"Product doesn't exist!\")\n",
        "  print(\"Please enter a valid product id\")\n",
        "  print(\"------------------------------\")\n",
        "\n",
        "\n",
        "\n",
        "sl = json.dumps(sales)                                                          \n",
        "fd = open('sales.json','w')\n",
        "fd.write(sl)\n",
        "fd.close()\n",
        "\n",
        "print(\"------------------------------\")\n",
        "print(\"Data Updated in Sales File!\")\n",
        "js = json.dumps(dct)                                                            \n",
        "fd = open('records.json','w')\n",
        "fd.write(js)\n",
        "fd.close()\n",
        "\n",
        "print(\"Data Updated in Inventory File!\")"
      ],
      "execution_count": 8,
      "outputs": [
        {
          "output_type": "stream",
          "name": "stdout",
          "text": [
            "**********************************************\n",
            "1001 {'name': 'Dairymilk', 'quantity': 34, 'price': 150}\n",
            "1002 {'name': 'Milky bar', 'quantity': 400, 'price': 15}\n",
            "1003 {'name': 'Ferroro Rocher', 'quantity': 60, 'price': 600}\n",
            "1004 {'name': 'Lollipop', 'quantity': 80, 'price': 5}\n",
            "1005 {'name': 'Twix', 'quantity': 50, 'price': 95}\n",
            "1006 {'name': 'Mars', 'quantity': 40, 'price': 150}\n",
            "1007 {'name': 'Snickers', 'quantity': 70, 'price': 30}\n",
            "1008 {'name': 'Nutella', 'quantity': 50, 'price': 100}\n",
            "1009 {'name': 'Kinderjoy', 'quantity': 700, 'price': 40}\n",
            "1010 {'name': 'Dark chocolate', 'quantity': 85, 'price': 98}\n",
            "1011 {'name': 'Kit Kat', 'quantity': 300, 'price': 32}\n",
            "1012 {'name': '5 star', 'quantity': 400, 'price': 23}\n",
            "1013 {'name': 'Gems', 'quantity': 124, 'price': 15}\n",
            "1014 {'name': 'Munch', 'quantity': 180, 'price': 5}\n",
            "1015 {'name': 'Bournville', 'quantity': 300, 'price': 120}\n",
            "******************************************\n",
            "\n",
            "Enter the product_Id: 1003\n",
            "Enter the quantity: 50\n",
            "Name: Ferroro Rocher\n",
            "Price: 600\n",
            "Quantity: 50\n",
            "------------------------------\n",
            "Billing Amount: 30000\n",
            "------------------------------\n",
            "Data Updated in Sales File!\n",
            "Data Updated in Inventory File!\n"
          ]
        }
      ]
    },
    {
      "cell_type": "code",
      "metadata": {
        "colab": {
          "base_uri": "https://localhost:8080/"
        },
        "id": "DYcyVaINJ5I-",
        "outputId": "3ad3c2c4-b751-4dc7-87a8-dc8e880412af"
      },
      "source": [
        "dct"
      ],
      "execution_count": 9,
      "outputs": [
        {
          "output_type": "execute_result",
          "data": {
            "text/plain": [
              "{'1001': {'name': 'Dairymilk', 'price': 150, 'quantity': 34},\n",
              " '1002': {'name': 'Milky bar', 'price': 15, 'quantity': 400},\n",
              " '1003': {'name': 'Ferroro Rocher', 'price': 600, 'quantity': 10},\n",
              " '1004': {'name': 'Lollipop', 'price': 5, 'quantity': 80},\n",
              " '1005': {'name': 'Twix', 'price': 95, 'quantity': 50},\n",
              " '1006': {'name': 'Mars', 'price': 150, 'quantity': 40},\n",
              " '1007': {'name': 'Snickers', 'price': 30, 'quantity': 70},\n",
              " '1008': {'name': 'Nutella', 'price': 100, 'quantity': 50},\n",
              " '1009': {'name': 'Kinderjoy', 'price': 40, 'quantity': 700},\n",
              " '1010': {'name': 'Dark chocolate', 'price': 98, 'quantity': 85},\n",
              " '1011': {'name': 'Kit Kat', 'price': 32, 'quantity': 300},\n",
              " '1012': {'name': '5 star', 'price': 23, 'quantity': 400},\n",
              " '1013': {'name': 'Gems', 'price': 15, 'quantity': 124},\n",
              " '1014': {'name': 'Munch', 'price': 5, 'quantity': 180},\n",
              " '1015': {'name': 'Bournville', 'price': 120, 'quantity': 300}}"
            ]
          },
          "metadata": {},
          "execution_count": 9
        }
      ]
    },
    {
      "cell_type": "code",
      "metadata": {
        "colab": {
          "base_uri": "https://localhost:8080/"
        },
        "id": "NMGPNc5OJ7dD",
        "outputId": "c26b9cac-dd9b-4fd6-bedd-12c2d45bc46c"
      },
      "source": [
        "sales"
      ],
      "execution_count": 10,
      "outputs": [
        {
          "output_type": "execute_result",
          "data": {
            "text/plain": [
              "{'1': {'bill': 30000,\n",
              "  'pr_name': 'Ferroro Rocher',\n",
              "  'price': 600,\n",
              "  'prod_id': '1003',\n",
              "  'quantity': 50,\n",
              "  'time_pr': 'Thu Sep 16 15:10:39 2021'}}"
            ]
          },
          "metadata": {},
          "execution_count": 10
        }
      ]
    }
  ]
}